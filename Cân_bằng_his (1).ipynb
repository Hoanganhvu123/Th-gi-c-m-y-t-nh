{
  "cells": [
    {
      "cell_type": "code",
      "execution_count": null,
      "metadata": {
        "id": "CgPej8_qs36w"
      },
      "outputs": [],
      "source": [
        "import cv2\n",
        "from matplotlib import pyplot as plt\n",
        "import numpy as np\n",
        "import math"
      ]
    },
    {
      "cell_type": "code",
      "execution_count": null,
      "metadata": {
        "colab": {
          "base_uri": "https://localhost:8080/",
          "height": 286
        },
        "id": "cwtrTpdQOTFT",
        "outputId": "ddb0de58-b378-4315-ae71-d28952e00e54"
      },
      "outputs": [
        {
          "data": {
            "text/plain": [
              "<matplotlib.image.AxesImage at 0x7f1567ce8d50>"
            ]
          },
          "execution_count": 2,
          "metadata": {},
          "output_type": "execute_result"
        },
        {
          "data": {
            "image/png": "[encoded data removed]",
            "text/plain": [
              "<Figure size 432x288 with 1 Axes>"
            ]
          },
          "metadata": {},
          "output_type": "display_data"
        }
      ],
      "source": [
        "img = cv2.imread('/content/anh2.png')\n",
        "plt.imshow(img)"
      ]
    },
    {
      "cell_type": "code",
      "execution_count": null,
      "metadata": {
        "colab": {
          "base_uri": "https://localhost:8080/",
          "height": 286
        },
        "id": "L2cy66ZXOmLL",
        "outputId": "013ac2c9-5a60-468c-982d-8bc4a0f6f4ac"
      },
      "outputs": [
        {
          "data": {
            "text/plain": [
              "<matplotlib.image.AxesImage at 0x7f156778a2d0>"
            ]
          },
          "execution_count": 3,
          "metadata": {},
          "output_type": "execute_result"
        },
        {
          "data": {
            "image/png": "[encoded data removed]",
            "text/plain": [
              "<Figure size 432x288 with 1 Axes>"
            ]
          },
          "metadata": {},
          "output_type": "display_data"
        }
      ],
      "source": [
        "gray_img = cv2.cvtColor(img, cv2.COLOR_RGB2GRAY)\n",
        "plt.imshow(gray_img, cmap = 'gray')"
      ]
    },
    {
      "cell_type": "code",
      "execution_count": null,
      "metadata": {
        "colab": {
          "base_uri": "https://localhost:8080/"
        },
        "id": "a0HYsN3zzjTH",
        "outputId": "0b7d4938-14fb-4414-8892-c750b89a8b94"
      },
      "outputs": [
        {
          "name": "stdout",
          "output_type": "stream",
          "text": [
            "400\n"
          ]
        }
      ],
      "source": [
        "print(len(gray_img))"
      ]
    },
    {
      "cell_type": "code",
      "execution_count": null,
      "metadata": {
        "colab": {
          "base_uri": "https://localhost:8080/"
        },
        "id": "Zw28pvW4z8L3",
        "outputId": "5e428f32-be03-4d46-c3f0-a2459478d0be"
      },
      "outputs": [
        {
          "name": "stdout",
          "output_type": "stream",
          "text": [
            "1\n"
          ]
        }
      ],
      "source": [
        "print(np.min(gray_img))"
      ]
    },
    {
      "cell_type": "code",
      "execution_count": null,
      "metadata": {
        "id": "Vbqv9G8l2pWo"
      },
      "outputs": [],
      "source": [
        "m,n = gray_img.shape"
      ]
    },
    {
      "cell_type": "code",
      "execution_count": null,
      "metadata": {
        "colab": {
          "base_uri": "https://localhost:8080/"
        },
        "id": "EOV7_5sfJuXG",
        "outputId": "78049255-eb86-44ac-ae83-866daa343ce5"
      },
      "outputs": [
        {
          "name": "stdout",
          "output_type": "stream",
          "text": [
            "160000\n"
          ]
        }
      ],
      "source": [
        "size = gray_img.size\n",
        "P = size\n",
        "print(P)"
      ]
    },
    {
      "cell_type": "code",
      "execution_count": null,
      "metadata": {
        "id": "MqOFBVtJ4Ad5"
      },
      "outputs": [],
      "source": [
        "def can_bang_hist(img, new_level):\n",
        "  g = []\n",
        "  hg = []\n",
        "  tg = []\n",
        "  fg = []\n",
        "  Fg = []\n",
        "  count = 0\n",
        "  G_max = np.max(gray_img) + 1\n",
        "  for l in range(0,G_max-1):\n",
        "    for i in range(m):\n",
        "      for j in range(n):\n",
        "        if gray_img[i][j] == l:\n",
        "          g.append(l)\n",
        "\n",
        "  G = list(set(g))\n",
        "  for i in range(len(G)):\n",
        "    hg.append(g.count(G[i]))\n",
        "\n",
        "  tg.append(hg[0])\n",
        "  for i in range(1,len(G)):\n",
        "    tg.append(hg[i] + tg[i-1])\n",
        "\n",
        "  for i in range(len(G)):\n",
        "    Fg.append(max(0,round(tg[i]/(m*n/new_level) -1)))\n",
        "  \n",
        "  img_phan_doan_cat_nguong = np.zeros([m, n])\n",
        "  \n",
        "  for l in g:\n",
        "    for i in range(m):\n",
        "        for j in range(n):\n",
        "            if g[l] in G : \n",
        "              g[l] = Fg[G.index(g[l])]\n",
        "              img_phan_doan_cat_nguong[i,j] = g[l]\n",
        "  return img_phan_doan_cat_nguong"
      ]
    },
    {
      "cell_type": "code",
      "execution_count": null,
      "metadata": {
        "colab": {
          "background_save": true
        },
        "id": "2HNaFGDzMemz",
        "outputId": "c6f26cda-8d8e-427c-859f-c1d4d747d9af"
      },
      "outputs": [
        {
          "data": {
            "image/png": "[encoded data removed]",
            "text/plain": [
              "<Figure size 1152x648 with 4 Axes>"
            ]
          },
          "metadata": {},
          "output_type": "display_data"
        }
      ],
      "source": [
        "if __name__ == \"__main__\":\n",
        "    # reading image in gray scale\n",
        "    img_goc = cv2.imread(\"/content/anh2.png\",0)\n",
        "\n",
        "    # gọi ham để phân đoạn bằng cắt ngưỡng toàn cục dựa trên ngưỡng\n",
        "    img_phan_doan = can_bang_hist(img,1)\n",
        "\n",
        "    # Vẽ và hiển thị ảnh gốc, histogram ảnh gốc và ảnh phân đoạn\n",
        "    fig2 = plt.figure(figsize=(16, 9))  # Tạo vùng vẽ tỷ lệ 16:9\n",
        "    #Tạo 4 vùng vẽ con\n",
        "    (ax1, ax2), (ax3, ax4) = fig2.subplots(2, 2)\n",
        "    # Hiển thị ảnh gốc\n",
        "    ax1.imshow(img_goc, cmap='gray')\n",
        "    ax1.set_title('Ảnh gốc')\n",
        "    ax1.axis('off')\n",
        "\n",
        "    # Hiển thị histogram ảnh gốc\n",
        "    ax2.hist(img_goc.flatten(),bins=256)\n",
        "    ax2.set_title('Hitogram ảnh gốc')\n",
        "\n",
        "    # Hiển thị ảnh phân đoạn\n",
        "    ax3.imshow(img_phan_doan, cmap='gray')\n",
        "    ax3.set_title('Ảnh phân đoạn dựa vào tìm ngưỡng cơ bản')\n",
        "    ax3.axis('off')\n",
        "\n",
        "    # Hiển thị histogram ảnh phân đoạn\n",
        "    ax4.hist(img_phan_doan.flatten(), bins=256)\n",
        "    ax4.set_title('Hitogram ảnh phân đoạn')\n",
        "    plt.show()\n"
      ]
    }
  ],
  "metadata": {
    "colab": {
      "collapsed_sections": [],
      "provenance": []
    },
    "kernelspec": {
      "display_name": "Python 3",
      "name": "python3"
    },
    "language_info": {
      "name": "python"
    }
  },
  "nbformat": 4,
  "nbformat_minor": 0
}