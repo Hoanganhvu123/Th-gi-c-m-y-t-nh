{
  "nbformat": 4,
  "nbformat_minor": 0,
  "metadata": {
    "colab": {
      "provenance": []
    },
    "kernelspec": {
      "name": "python3",
      "display_name": "Python 3"
    },
    "language_info": {
      "name": "python"
    }
  },
  "cells": [
    {
      "cell_type": "code",
      "execution_count": null,
      "metadata": {
        "id": "ApUgX4ICk9_X"
      },
      "outputs": [],
      "source": [
        "import cv2\n",
        "import numpy as np\n",
        "from google.colab.patches import cv2_imshow"
      ]
    },
    {
      "cell_type": "code",
      "source": [
        "img1 = cv2.imread('/content/anh1.png',1)\n",
        "img2 = cv2.imread('/content/anh2.png',1)\n",
        "imgAdd = cv2.add(img1, img2)\n",
        "cv2_imshow(imgAdd)"
      ],
      "metadata": {
        "colab": {
          "base_uri": "https://localhost:8080/",
          "height": 417
        },
        "id": "K8RQFClZtgsX",
        "outputId": "0a405a25-b546-434e-dc03-dd7024bea3a3"
      },
      "execution_count": null,
      "outputs": [
        {
          "output_type": "display_data",
          "data": {
            "text/plain": [
              "<PIL.Image.Image image mode=RGB size=400x400 at 0x7FB2FDDE5ED0>"
            ],
            "image/png": "[encoded data removed]"
          },
          "metadata": {}
        }
      ]
    },
    {
      "cell_type": "code",
      "source": [
        "image1 = cv2.imread('/content/anh1.png') \n",
        "image2 = cv2.imread('/content/anh2.png')\n",
        "\n",
        "sub = cv2.subtract(image1, image2)\n",
        "cv2_imshow(sub)"
      ],
      "metadata": {
        "colab": {
          "base_uri": "https://localhost:8080/",
          "height": 417
        },
        "id": "2XCaScNaNa_v",
        "outputId": "29f51f9f-7349-4c86-c752-d325cec08b67"
      },
      "execution_count": null,
      "outputs": [
        {
          "output_type": "display_data",
          "data": {
            "text/plain": [
              "<PIL.Image.Image image mode=RGB size=400x400 at 0x7FB2FDDFD550>"
            ],
            "image/png": "[encoded data removed]"
          },
          "metadata": {}
        }
      ]
    },
    {
      "cell_type": "code",
      "source": [],
      "metadata": {
        "id": "lR9_Voc9PIPY"
      },
      "execution_count": null,
      "outputs": []
    }
  ]
}